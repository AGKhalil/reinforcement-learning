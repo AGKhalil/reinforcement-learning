{
 "cells": [
  {
   "cell_type": "markdown",
   "metadata": {
    "collapsed": true
   },
   "source": [
    "### This is Example 4.3. Gambler’s Problem from Sutton's book.\n",
    "\n",
    "A gambler has the opportunity to make bets on the outcomes of a sequence of coin flips. \n",
    "If the coin comes up heads, he wins as many dollars as he has staked on that flip; \n",
    "if it is tails, he loses his stake. The game ends when the gambler wins by reaching his goal of $100, \n",
    "or loses by running out of money. \n",
    "\n",
    "On each flip, the gambler must decide what portion of his capital to stake, in integer numbers of dollars. \n",
    "This problem can be formulated as an undiscounted, episodic, finite MDP. \n",
    "\n",
    "The state is the gambler’s capital, s ∈ {1, 2, . . . , 99}.\n",
    "The actions are stakes, a ∈ {0, 1, . . . , min(s, 100 − s)}. \n",
    "The reward is zero on all transitions except those on which the gambler reaches his goal, when it is +1.\n",
    "\n",
    "The state-value function then gives the probability of winning from each state. A policy is a mapping from levels of capital to stakes. The optimal policy maximizes the probability of reaching the goal. Let p_h denote the probability of the coin coming up heads. If p_h is known, then the entire problem is known and it can be solved, for instance, by value iteration.\n"
   ]
  },
  {
   "cell_type": "code",
   "execution_count": null,
   "metadata": {},
   "outputs": [],
   "source": [
    "import numpy as np\n",
    "import sys\n",
    "import matplotlib.pyplot as plt\n",
    "if \"../\" not in sys.path:\n",
    "  sys.path.append(\"../\") "
   ]
  },
  {
   "cell_type": "markdown",
   "metadata": {
    "collapsed": true
   },
   "source": [
    "\n",
    "### Exercise 4.9 (programming)\n",
    "\n",
    "Implement value iteration for the gambler’s problem and solve it for p_h = 0.25 and p_h = 0.55.\n",
    "\n"
   ]
  },
  {
   "cell_type": "code",
   "execution_count": 225,
   "metadata": {},
   "outputs": [],
   "source": [
    "def value_iteration_for_gamblers(p_h, theta=0.0001, discount_factor=1.0):\n",
    "    \"\"\"\n",
    "    Args:\n",
    "        p_h: Probability of the coin coming up heads\n",
    "    \"\"\"\n",
    "    \n",
    "    def one_step_lookahead(s, V, rewards):\n",
    "        \"\"\"\n",
    "        Helper function to calculate the value for all action in a given state.\n",
    "        \n",
    "        Args:\n",
    "            s: The gambler’s capital. Integer.\n",
    "            V: The vector that contains values at each state. \n",
    "            rewards: The reward vector.\n",
    "                        \n",
    "        Returns:\n",
    "            A vector containing the expected value of each action. \n",
    "            Its length equals to the number of actions.\n",
    "        \"\"\"\n",
    "        A = np.zeros(101)\n",
    "        \n",
    "        for a in range(1,min(s, 100 - s)+1):\n",
    "            A[a] = p_h * (rewards[a+s] + V[a+s]) + (1 - p_h) * (rewards[s-a] + V[s-a])\n",
    "        return A\n",
    "    \n",
    "    rewards = np.zeros(101)\n",
    "    rewards[100] = 1    \n",
    "    V = np.zeros(101)\n",
    "    policy = np.zeros(100)\n",
    "    while True:\n",
    "        delta = 0\n",
    "        for s in range(1,100):\n",
    "            A = one_step_lookahead(s, V, rewards)\n",
    "            delta = max(delta, abs(V[s] - max(A)))\n",
    "            V[s] = max(A)            \n",
    "        if delta < theta:\n",
    "            break\n",
    "            \n",
    "    for s in range(1,100):\n",
    "        A = one_step_lookahead(s, V, rewards)\n",
    "        policy[s] = np.argmax(A)\n",
    "    \n",
    "    return policy, V"
   ]
  },
  {
   "cell_type": "code",
   "execution_count": 252,
   "metadata": {},
   "outputs": [
    {
     "name": "stdout",
     "output_type": "stream",
     "text": [
      "Optimized Policy:\n",
      "[0. 1. 1. 1. 1. 1. 1. 1. 1. 1. 1. 1. 1. 1. 1. 1. 1. 1. 1. 1. 1. 1. 1. 1.\n",
      " 1. 1. 1. 1. 1. 1. 1. 1. 1. 1. 1. 1. 1. 1. 1. 1. 1. 1. 1. 1. 1. 1. 1. 1.\n",
      " 1. 1. 1. 1. 1. 1. 1. 1. 1. 1. 1. 1. 1. 1. 1. 1. 1. 1. 1. 1. 1. 1. 1. 1.\n",
      " 1. 1. 1. 1. 1. 1. 1. 1. 1. 1. 1. 1. 1. 1. 1. 1. 1. 1. 1. 1. 1. 1. 1. 1.\n",
      " 1. 1. 1. 1.]\n",
      "\n",
      "Optimized Value Function:\n",
      "[0.         0.17907988 0.3256451  0.44562338 0.54386112 0.62432055\n",
      " 0.69024101 0.74427075 0.78857479 0.82492306 0.8547625  0.87927601\n",
      " 0.89943065 0.916017   0.92968144 0.94095243 0.95026207 0.95796371\n",
      " 0.96434629 0.96964617 0.97405667 0.97773597 0.98081353 0.98339531\n",
      " 0.9855681  0.98740299 0.98895822 0.9902816  0.99141231 0.99238257\n",
      " 0.99321882 0.99394285 0.99457258 0.99512281 0.99560577 0.99603155\n",
      " 0.99640856 0.99674375 0.99704294 0.99731096 0.9975519  0.99776916\n",
      " 0.99796564 0.99814377 0.99830564 0.99845302 0.99858745 0.99871025\n",
      " 0.99882255 0.99892537 0.99901957 0.99910594 0.99918515 0.99925782\n",
      " 0.99932449 0.99938566 0.99944178 0.99949324 0.99954041 0.99958363\n",
      " 0.9996232  0.99965942 0.99969253 0.99972279 0.99975041 0.99977559\n",
      " 0.99979853 0.99981941 0.99983838 0.99985561 0.99987123 0.99988537\n",
      " 0.99989815 0.9999097  0.99992011 0.99992947 0.99993789 0.99994544\n",
      " 0.9999522  0.99995825 0.99996364 0.99996844 0.99997271 0.99997649\n",
      " 0.99997983 0.99998278 0.99998538 0.99998766 0.99998965 0.99999139\n",
      " 0.9999929  0.99999421 0.99999534 0.99999631 0.99999714 0.99999785\n",
      " 0.99999845 0.99999895 0.99999937 0.99999972 0.        ]\n",
      "\n"
     ]
    }
   ],
   "source": [
    "policy, v = value_iteration_for_gamblers(0.55)\n",
    "\n",
    "print(\"Optimized Policy:\")\n",
    "print(policy)\n",
    "print(\"\")\n",
    "\n",
    "print(\"Optimized Value Function:\")\n",
    "print(v)\n",
    "print(\"\")"
   ]
  },
  {
   "cell_type": "code",
   "execution_count": 253,
   "metadata": {},
   "outputs": [
    {
     "data": {
      "text/plain": [
       "Text(0, 0.5, 'Value')"
      ]
     },
     "execution_count": 253,
     "metadata": {},
     "output_type": "execute_result"
    },
    {
     "data": {
      "image/png": "[encoded data removed]",
      "text/plain": [
       "<Figure size 432x288 with 1 Axes>"
      ]
     },
     "metadata": {
      "needs_background": "light"
     },
     "output_type": "display_data"
    }
   ],
   "source": [
    "# Plotting Final Policy (action stake) vs State (Capital)\n",
    "plt.plot(v[:100])\n",
    "plt.xlabel(\"State\")\n",
    "plt.ylabel(\"Value\")\n",
    "\n",
    "# Implement!"
   ]
  },
  {
   "cell_type": "code",
   "execution_count": 254,
   "metadata": {},
   "outputs": [
    {
     "data": {
      "text/plain": [
       "Text(0, 0.5, 'Best Policy')"
      ]
     },
     "execution_count": 254,
     "metadata": {},
     "output_type": "execute_result"
    },
    {
     "data": {
      "image/png": "[encoded data removed]",
      "text/plain": [
       "<Figure size 432x288 with 1 Axes>"
      ]
     },
     "metadata": {
      "needs_background": "light"
     },
     "output_type": "display_data"
    }
   ],
   "source": [
    "# Plotting Capital vs Final Policy\n",
    "plt.plot(policy)\n",
    "plt.xlabel(\"State\")\n",
    "plt.ylabel(\"Best Policy\")"
   ]
  },
  {
   "cell_type": "code",
   "execution_count": null,
   "metadata": {},
   "outputs": [],
   "source": []
  }
 ],
 "metadata": {
  "kernelspec": {
   "display_name": "Python 3",
   "language": "python",
   "name": "python3"
  }
 },
 "nbformat": 4,
 "nbformat_minor": 1
}
